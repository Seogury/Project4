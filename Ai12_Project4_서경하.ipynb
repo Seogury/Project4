{
  "cells": [
    {
      "cell_type": "markdown",
      "metadata": {
        "id": "gQnEZwiLaQ4n"
      },
      "source": [
        "#목차\n",
        "###1. 데이터\n",
        "  * 이유\n",
        "  * 가설\n",
        "  * 전처리\n",
        "\n",
        "###2. 모델\n",
        "  * 이유\n",
        "  * 선정\n",
        "  * 학습 & 결과\n",
        "\n",
        "###3. 회고\n",
        "  * 한계점\n",
        "  * 회고"
      ]
    },
    {
      "cell_type": "markdown",
      "metadata": {
        "id": "HcSJAFMRc3nn"
      },
      "source": [
        "#1. 데이터\n",
        "   * 이유  \n",
        "   저는 운동하는 것을 좋아해서 아무래도 건강관리에 관심이 많이 갔습니다. 또한 의료계열 쪽의 회사에서 관심을 가질만한 것이라 생각하여 결정하게 되었습니다.\n",
        "   * 가설 \n",
        "   이 분석을 통해서 환자와 의사 둘 다 진료의 편의성의 증대로 인해 효용이 증가할 것이라고 생각한다. 또한 도심에서 멀리 떨어진 외각 지역에서 단순한 X-ray를 통한 질병의 예방에도 도움이 된다고 생각된다. "
      ]
    },
    {
      "cell_type": "markdown",
      "metadata": {
        "id": "_ilcRPq4irqx"
      },
      "source": [
        "   * 전처리  \n",
        "1.데이터의 정규화(Normalization)  \n",
        "2.노이즈 및 이상치(Outlier) 제거  \n",
        "3.타겟 레이블(Label or Ground Truth) 생성 혹은 선택 등"
      ]
    },
    {
      "cell_type": "code",
      "execution_count": null,
      "metadata": {
        "colab": {
          "base_uri": "https://localhost:8080/"
        },
        "id": "QRUBNDLCc2a0",
        "outputId": "ac42493c-dbf6-4a7b-ab1f-a6ae7bb4614a"
      },
      "outputs": [
        {
          "output_type": "stream",
          "name": "stdout",
          "text": [
            "Drive already mounted at /content/drive; to attempt to forcibly remount, call drive.mount(\"/content/drive\", force_remount=True).\n"
          ]
        }
      ],
      "source": [
        "#구글 드라이브 연동\n",
        "from google.colab import drive\n",
        "drive.mount('/content/drive')"
      ]
    },
    {
      "cell_type": "code",
      "execution_count": null,
      "metadata": {
        "id": "6h60dFHa0VAL"
      },
      "outputs": [],
      "source": [
        "from tensorflow.keras import Sequential\n",
        "from tensorflow.keras import layers\n",
        "from tensorflow.keras.applications.resnet import ResNet101\n",
        "from tensorflow.keras.applications.resnet_v2 import ResNet101V2\n",
        "from tensorflow.keras.preprocessing import image\n",
        "from tensorflow.keras.preprocessing.image import ImageDataGenerator\n",
        "from tensorflow.keras.applications.resnet import preprocess_input, decode_predictions\n",
        "\n",
        "from tensorflow.keras.layers import Dense, GlobalAveragePooling2D, Conv2D, MaxPooling2D, Flatten\n",
        "from tensorflow.keras.models import Model\n",
        "\n",
        "resnet = ResNet101V2(weights='imagenet', include_top=False, input_shape=(224, 224, 3))"
      ]
    },
    {
      "cell_type": "code",
      "source": [
        "import numpy as np\n",
        "import tensorflow as tf\n",
        "from tensorflow import keras\n",
        "\n",
        "\n",
        "np.random.seed(42)\n",
        "tf.random.set_seed(42)"
      ],
      "metadata": {
        "id": "Q0V1Nff0486f"
      },
      "execution_count": null,
      "outputs": []
    },
    {
      "cell_type": "code",
      "execution_count": null,
      "metadata": {
        "id": "X9xXLCOIaF8j"
      },
      "outputs": [],
      "source": [
        "#경로 설정\n",
        "train_dir = '/content/drive/MyDrive/chest_xray/train'\n",
        "test_dir = '/content/drive/MyDrive/chest_xray/test'\n",
        "\n",
        "\n",
        "#정규화(Nomalization)\n",
        "train_datagen = ImageDataGenerator(rescale=1/255) \n",
        "validation_datagen=ImageDataGenerator(rescale=1/255)\n"
      ]
    },
    {
      "cell_type": "code",
      "execution_count": null,
      "metadata": {
        "colab": {
          "base_uri": "https://localhost:8080/"
        },
        "id": "YVBRrO4jymHX",
        "outputId": "8dede2f1-c9fe-4874-a021-faf06088d700"
      },
      "outputs": [
        {
          "output_type": "stream",
          "name": "stdout",
          "text": [
            "Found 5232 images belonging to 2 classes.\n",
            "Found 624 images belonging to 2 classes.\n"
          ]
        }
      ],
      "source": [
        "#훈련, 검증\n",
        "train_set = train_datagen.flow_from_directory(train_dir,\n",
        "                                                    classes=['NORMAL', 'PNEUMONIA'],\n",
        "                                                    batch_size = 20,\n",
        "                                                    target_size = (224, 224),\n",
        "                                                    class_mode='binary',\n",
        "                                                    seed = 42)\n",
        "\n",
        "validation_set = validation_datagen.flow_from_directory(test_dir,\n",
        "                                                              classes=['NORMAL', 'PNEUMONIA'],\n",
        "                                                              batch_size = 20,\n",
        "                                                              target_size = (224, 224),\n",
        "                                                              class_mode = 'binary',\n",
        "                                                              seed = 42)\n"
      ]
    },
    {
      "cell_type": "code",
      "source": [
        "train_set"
      ],
      "metadata": {
        "colab": {
          "base_uri": "https://localhost:8080/"
        },
        "id": "WrHdizVmxxI2",
        "outputId": "8d7ab11d-73e1-4629-cca4-bd023a4f4fbd"
      },
      "execution_count": null,
      "outputs": [
        {
          "output_type": "execute_result",
          "data": {
            "text/plain": [
              "<keras.preprocessing.image.DirectoryIterator at 0x7f43ac337c50>"
            ]
          },
          "metadata": {},
          "execution_count": 23
        }
      ]
    },
    {
      "cell_type": "code",
      "execution_count": null,
      "metadata": {
        "id": "ieiRmsWi0-UX"
      },
      "outputs": [],
      "source": [
        "for layer in resnet.layers:\n",
        "    layer.trainable = False"
      ]
    },
    {
      "cell_type": "markdown",
      "source": [
        "#2. 모델"
      ],
      "metadata": {
        "id": "yn3MSSVFnoi3"
      }
    },
    {
      "cell_type": "code",
      "source": [
        "from tensorflow.keras import callbacks\n",
        "\n",
        "#과적합 방지\n",
        "early_stopping = callbacks.EarlyStopping(\n",
        "    monitor='val_loss',\n",
        "    patience=5,\n",
        "    min_delta=1e-7,\n",
        "    restore_best_weights=True,\n",
        ")\n"
      ],
      "metadata": {
        "id": "ItnUkSGXC-HF"
      },
      "execution_count": null,
      "outputs": []
    },
    {
      "cell_type": "code",
      "execution_count": null,
      "metadata": {
        "id": "2fNPG-pj1BSW"
      },
      "outputs": [],
      "source": [
        "#Fully-conneted layer\n",
        "x = resnet.output\n",
        "x = GlobalAveragePooling2D()(x)\n",
        "x = Dense(256, activation='relu')(x)\n",
        "x = layers.Dropout(0.1)(x)\n",
        "\n",
        "predictions = Dense(1, activation='sigmoid')(x) # 출력층을 설계합니다.\n",
        "model = Model(resnet.input, predictions)\n",
        "\n",
        "model.compile(optimizer = keras.optimizers.Adam(5e-5), loss = 'binary_crossentropy', metrics = ['binary_accuracy'])"
      ]
    },
    {
      "cell_type": "code",
      "execution_count": null,
      "metadata": {
        "colab": {
          "base_uri": "https://localhost:8080/"
        },
        "id": "wtXPDwtW1bqs",
        "outputId": "94784cd0-ce29-4da4-9d0a-d1b36858ea8d"
      },
      "outputs": [
        {
          "output_type": "stream",
          "name": "stdout",
          "text": [
            "Epoch 1/30\n",
            "30/30 [==============================] - 24s 559ms/step - loss: 0.4727 - binary_accuracy: 0.7900 - val_loss: 0.4890 - val_binary_accuracy: 0.7350\n",
            "Epoch 2/30\n",
            "30/30 [==============================] - 14s 469ms/step - loss: 0.2950 - binary_accuracy: 0.8750 - val_loss: 0.4053 - val_binary_accuracy: 0.8150\n",
            "Epoch 3/30\n",
            "30/30 [==============================] - 14s 457ms/step - loss: 0.2269 - binary_accuracy: 0.9233 - val_loss: 0.5181 - val_binary_accuracy: 0.7375\n",
            "Epoch 4/30\n",
            "30/30 [==============================] - 13s 451ms/step - loss: 0.2022 - binary_accuracy: 0.9250 - val_loss: 0.4234 - val_binary_accuracy: 0.8075\n",
            "Epoch 5/30\n",
            "30/30 [==============================] - 14s 457ms/step - loss: 0.1634 - binary_accuracy: 0.9450 - val_loss: 0.3738 - val_binary_accuracy: 0.8275\n",
            "Epoch 6/30\n",
            "30/30 [==============================] - 14s 465ms/step - loss: 0.2099 - binary_accuracy: 0.9183 - val_loss: 0.3561 - val_binary_accuracy: 0.8250\n",
            "Epoch 7/30\n",
            "30/30 [==============================] - 14s 462ms/step - loss: 0.1564 - binary_accuracy: 0.9350 - val_loss: 0.4126 - val_binary_accuracy: 0.8000\n",
            "Epoch 8/30\n",
            "30/30 [==============================] - 14s 463ms/step - loss: 0.1829 - binary_accuracy: 0.9233 - val_loss: 0.3896 - val_binary_accuracy: 0.8250\n",
            "Epoch 9/30\n",
            "30/30 [==============================] - 14s 468ms/step - loss: 0.1729 - binary_accuracy: 0.9267 - val_loss: 0.4153 - val_binary_accuracy: 0.7925\n",
            "Epoch 10/30\n",
            "30/30 [==============================] - 14s 466ms/step - loss: 0.1333 - binary_accuracy: 0.9600 - val_loss: 0.3469 - val_binary_accuracy: 0.8250\n",
            "Epoch 11/30\n",
            "30/30 [==============================] - 14s 482ms/step - loss: 0.1482 - binary_accuracy: 0.9433 - val_loss: 0.3547 - val_binary_accuracy: 0.8175\n",
            "Epoch 12/30\n",
            "30/30 [==============================] - 14s 482ms/step - loss: 0.1387 - binary_accuracy: 0.9417 - val_loss: 0.3151 - val_binary_accuracy: 0.8500\n",
            "Epoch 13/30\n",
            "30/30 [==============================] - 14s 470ms/step - loss: 0.1388 - binary_accuracy: 0.9483 - val_loss: 0.3328 - val_binary_accuracy: 0.8350\n",
            "Epoch 14/30\n",
            "30/30 [==============================] - 14s 456ms/step - loss: 0.1132 - binary_accuracy: 0.9633 - val_loss: 0.4486 - val_binary_accuracy: 0.7825\n",
            "Epoch 15/30\n",
            "30/30 [==============================] - 14s 474ms/step - loss: 0.1387 - binary_accuracy: 0.9533 - val_loss: 0.2603 - val_binary_accuracy: 0.8650\n",
            "Epoch 16/30\n",
            "30/30 [==============================] - 14s 485ms/step - loss: 0.1170 - binary_accuracy: 0.9567 - val_loss: 0.2848 - val_binary_accuracy: 0.8650\n",
            "Epoch 17/30\n",
            "30/30 [==============================] - 14s 474ms/step - loss: 0.1167 - binary_accuracy: 0.9550 - val_loss: 0.3380 - val_binary_accuracy: 0.8350\n",
            "Epoch 18/30\n",
            "30/30 [==============================] - 14s 460ms/step - loss: 0.1308 - binary_accuracy: 0.9483 - val_loss: 0.3416 - val_binary_accuracy: 0.8375\n",
            "Epoch 19/30\n",
            "30/30 [==============================] - 14s 464ms/step - loss: 0.0997 - binary_accuracy: 0.9679 - val_loss: 0.3292 - val_binary_accuracy: 0.8450\n",
            "Epoch 20/30\n",
            "30/30 [==============================] - 14s 469ms/step - loss: 0.1129 - binary_accuracy: 0.9583 - val_loss: 0.3275 - val_binary_accuracy: 0.8550\n"
          ]
        }
      ],
      "source": [
        "#모델 훈련\n",
        "history = model.fit(train_set,\n",
        "                         batch_size = 20,\n",
        "                         steps_per_epoch = 30,\n",
        "                         epochs = 30,\n",
        "                         callbacks=[early_stopping],\n",
        "                         validation_data = validation_set,\n",
        "                         validation_steps = 20)"
      ]
    },
    {
      "cell_type": "code",
      "source": [
        "result = model.evaluate(train_set, verbose=2)"
      ],
      "metadata": {
        "colab": {
          "base_uri": "https://localhost:8080/"
        },
        "id": "3G-y8fnF7Dts",
        "outputId": "76b733f8-3e95-472f-bfc3-8b8628676107"
      },
      "execution_count": null,
      "outputs": [
        {
          "output_type": "stream",
          "name": "stdout",
          "text": [
            "262/262 - 67s - loss: 0.1189 - binary_accuracy: 0.9558 - 67s/epoch - 258ms/step\n"
          ]
        }
      ]
    },
    {
      "cell_type": "code",
      "source": [
        "print('train_lose =',result[0])\n",
        "print('train_accuracy =',result[1])"
      ],
      "metadata": {
        "colab": {
          "base_uri": "https://localhost:8080/"
        },
        "id": "gwSqVK0g7tim",
        "outputId": "4cb52caa-9c7d-4089-86d1-f3b869feb9f1"
      },
      "execution_count": null,
      "outputs": [
        {
          "output_type": "stream",
          "name": "stdout",
          "text": [
            "train_lose = 0.11894737929105759\n",
            "train_accuracy = 0.9558486342430115\n"
          ]
        }
      ]
    },
    {
      "cell_type": "code",
      "execution_count": null,
      "metadata": {
        "colab": {
          "base_uri": "https://localhost:8080/"
        },
        "id": "IBZERaAdEu3S",
        "outputId": "c084d179-499c-4421-d2d8-caa26c6ea15f"
      },
      "outputs": [
        {
          "output_type": "stream",
          "name": "stdout",
          "text": [
            "32/32 - 8s - loss: 0.2915 - binary_accuracy: 0.8558 - 8s/epoch - 265ms/step\n"
          ]
        }
      ],
      "source": [
        "result = model.evaluate(validation_set, verbose=2)"
      ]
    },
    {
      "cell_type": "code",
      "source": [
        "print('val_lose =',result[0])\n",
        "print('val_accuracy =',result[1])"
      ],
      "metadata": {
        "colab": {
          "base_uri": "https://localhost:8080/"
        },
        "id": "U5ypTKK_n9fI",
        "outputId": "424d240e-f124-4152-89fc-e1aba5b1b4d9"
      },
      "execution_count": null,
      "outputs": [
        {
          "output_type": "stream",
          "name": "stdout",
          "text": [
            "val_lose = 0.2915206849575043\n",
            "val_accuracy = 0.8557692170143127\n"
          ]
        }
      ]
    },
    {
      "cell_type": "code",
      "source": [
        "import seaborn as sns\n",
        "\n",
        "\n",
        "fig, ax = plt.subplots(figsize=(20,8))\n",
        "sns.lineplot(x = history.epoch, y = history.history['loss'])\n",
        "sns.lineplot(x = history.epoch, y = history.history['val_loss'])\n",
        "ax.set_title('Learning Curve (Loss)')\n",
        "ax.set_ylabel('Loss')\n",
        "ax.set_xlabel('Epoch')\n",
        "ax.set_ylim(0, 0.8)\n",
        "ax.legend(['train', 'val'], loc='best')\n",
        "plt.show()"
      ],
      "metadata": {
        "colab": {
          "base_uri": "https://localhost:8080/",
          "height": 513
        },
        "id": "657FIRlmuhRU",
        "outputId": "b8edbf23-7bc8-4329-f3a8-c76dde82b6f7"
      },
      "execution_count": null,
      "outputs": [
        {
          "output_type": "display_data",
          "data": {
            "text/plain": [
              "<Figure size 1440x576 with 1 Axes>"
            ],
            "image/png": "[encoded data removed]"
          },
          "metadata": {
            "needs_background": "light"
          }
        }
      ]
    },
    {
      "cell_type": "code",
      "source": [
        "fig, ax = plt.subplots(figsize=(20,8))\n",
        "sns.lineplot(x = history.epoch, y = history.history['binary_accuracy'])\n",
        "sns.lineplot(x = history.epoch, y = history.history['val_binary_accuracy'])\n",
        "ax.set_title('Learning Curve (Accuracy)')\n",
        "ax.set_ylabel('Accuracy')\n",
        "ax.set_xlabel('Epoch')\n",
        "ax.set_ylim(0.5, 1.0)\n",
        "ax.legend(['train', 'val'], loc='best')\n",
        "plt.show()"
      ],
      "metadata": {
        "colab": {
          "base_uri": "https://localhost:8080/",
          "height": 513
        },
        "id": "PxRkG9GN2sKV",
        "outputId": "50584b9d-9854-45f2-b5dd-346189784258"
      },
      "execution_count": null,
      "outputs": [
        {
          "output_type": "display_data",
          "data": {
            "text/plain": [
              "<Figure size 1440x576 with 1 Axes>"
            ],
            "image/png": "[encoded data removed]"
          },
          "metadata": {
            "needs_background": "light"
          }
        }
      ]
    },
    {
      "cell_type": "markdown",
      "source": [
        "#3. 회고"
      ],
      "metadata": {
        "id": "zmGXKDE1pNxS"
      }
    }
  ],
  "metadata": {
    "colab": {
      "collapsed_sections": [],
      "name": "Ai12_Project4_서경하.ipynb",
      "provenance": [],
      "machine_shape": "hm"
    },
    "kernelspec": {
      "display_name": "Python 3",
      "name": "python3"
    },
    "language_info": {
      "name": "python"
    },
    "accelerator": "GPU"
  },
  "nbformat": 4,
  "nbformat_minor": 0
}