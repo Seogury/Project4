{
  "cells": [
    {
      "cell_type": "markdown",
      "metadata": {
        "id": "gQnEZwiLaQ4n"
      },
      "source": [
        "#목차\n",
        "###1. 데이터\n",
        "  * 이유\n",
        "  * 가설\n",
        "  * 전처리\n",
        "\n",
        "###2. 모델\n",
        "  * 이유\n",
        "  * 선정\n",
        "  * 학습 & 결과\n",
        "\n",
        "###3. 회고\n",
        "  * 한계점\n",
        "  * 회고"
      ]
    },
    {
      "cell_type": "markdown",
      "metadata": {
        "id": "HcSJAFMRc3nn"
      },
      "source": [
        "#1. 데이터\n",
        "   * 이유  \n",
        "   저는 운동하는 것을 좋아해서 아무래도 건강관리에 관심이 많이 갔습니다. 또한 의료계열 쪽의 회사에서 관심을 가질만한 것이라 생각하여 결정하게 되었습니다.\n",
        "   * 가설 \n",
        "   이 분석을 통해서 환자와 의사 둘 다 진료의 편의성의 증대로 인해 효용이 증가할 것이라고 생각한다. 또한 도심에서 멀리 떨어진 외각 지역에서 단순한 X-ray를 통한 질병의 예방에도 도움이 된다고 생각된다. "
      ]
    },
    {
      "cell_type": "markdown",
      "metadata": {
        "id": "_ilcRPq4irqx"
      },
      "source": [
        "   * 전처리  \n",
        "1.데이터의 정규화(Normalization)  \n",
        "2.노이즈 및 이상치(Outlier) 제거  \n",
        "3.타겟 레이블(Label or Ground Truth) 생성 혹은 선택 등"
      ]
    },
    {
      "cell_type": "code",
      "execution_count": 22,
      "metadata": {
        "colab": {
          "base_uri": "https://localhost:8080/"
        },
        "id": "QRUBNDLCc2a0",
        "outputId": "5111fe70-b452-4784-cd37-e1154e0ce6a5"
      },
      "outputs": [
        {
          "output_type": "stream",
          "name": "stdout",
          "text": [
            "Drive already mounted at /content/drive; to attempt to forcibly remount, call drive.mount(\"/content/drive\", force_remount=True).\n"
          ]
        }
      ],
      "source": [
        "#구글 드라이브 연동\n",
        "from google.colab import drive\n",
        "drive.mount('/content/drive')"
      ]
    },
    {
      "cell_type": "code",
      "execution_count": 23,
      "metadata": {
        "id": "6h60dFHa0VAL"
      },
      "outputs": [],
      "source": [
        "from tensorflow.keras import Sequential\n",
        "from tensorflow.keras import layers\n",
        "from tensorflow.keras.applications.resnet import ResNet101\n",
        "from tensorflow.keras.applications.resnet_v2 import ResNet101V2\n",
        "from tensorflow.keras.preprocessing import image\n",
        "from tensorflow.keras.preprocessing.image import ImageDataGenerator\n",
        "from tensorflow.keras.applications.resnet import preprocess_input, decode_predictions\n",
        "\n",
        "from tensorflow.keras.layers import Dense, GlobalAveragePooling2D, Conv2D, MaxPooling2D, Flatten\n",
        "from tensorflow.keras.models import Model\n",
        "\n",
        "resnet = ResNet101V2(weights='imagenet', include_top=False, input_shape=(224, 224, 3))"
      ]
    },
    {
      "cell_type": "code",
      "source": [
        "import numpy as np\n",
        "import tensorflow as tf\n",
        "from tensorflow import keras\n",
        "\n",
        "\n",
        "np.random.seed(42)\n",
        "tf.random.set_seed(42)"
      ],
      "metadata": {
        "id": "Q0V1Nff0486f"
      },
      "execution_count": 24,
      "outputs": []
    },
    {
      "cell_type": "code",
      "execution_count": 25,
      "metadata": {
        "id": "X9xXLCOIaF8j"
      },
      "outputs": [],
      "source": [
        "#경로 설정\n",
        "train_dir = '/content/drive/MyDrive/chest_xray/train'\n",
        "test_dir = '/content/drive/MyDrive/chest_xray/test'\n",
        "val_dir = '/content/drive/MyDrive/chest_xray/validation'\n",
        "\n",
        "\n",
        "#정규화(Nomalization)\n",
        "train_datagen = ImageDataGenerator(rescale=1/255) \n",
        "validation_datagen=ImageDataGenerator(rescale=1/255)\n",
        "test_datagen=ImageDataGenerator(rescale=1/255)\n"
      ]
    },
    {
      "cell_type": "code",
      "execution_count": 26,
      "metadata": {
        "colab": {
          "base_uri": "https://localhost:8080/"
        },
        "id": "YVBRrO4jymHX",
        "outputId": "04533442-65c8-465d-df33-5ca164744b6f"
      },
      "outputs": [
        {
          "output_type": "stream",
          "name": "stdout",
          "text": [
            "Found 4270 images belonging to 2 classes.\n",
            "Found 962 images belonging to 2 classes.\n",
            "Found 624 images belonging to 2 classes.\n"
          ]
        }
      ],
      "source": [
        "#훈련, 검증\n",
        "train_set = train_datagen.flow_from_directory(train_dir,\n",
        "                                                    classes=['NORMAL', 'PNEUMONIA'],\n",
        "                                                    batch_size = 20,\n",
        "                                                    target_size = (224, 224),\n",
        "                                                    class_mode='binary',\n",
        "                                                    seed = 42)\n",
        "\n",
        "validation_set = validation_datagen.flow_from_directory(val_dir,\n",
        "                                                              classes=['NORMAL', 'PNEUMONIA'],\n",
        "                                                              batch_size = 20,\n",
        "                                                              target_size = (224, 224),\n",
        "                                                              class_mode = 'binary',\n",
        "                                                              seed = 42)\n",
        "test_set = test_datagen.flow_from_directory(test_dir,\n",
        "                                                              classes=['NORMAL', 'PNEUMONIA'],\n",
        "                                                              batch_size = 20,\n",
        "                                                              target_size = (224, 224),\n",
        "                                                              class_mode = 'binary',\n",
        "                                                              seed = 42)"
      ]
    },
    {
      "cell_type": "code",
      "source": [
        "train_set"
      ],
      "metadata": {
        "colab": {
          "base_uri": "https://localhost:8080/"
        },
        "id": "WrHdizVmxxI2",
        "outputId": "97e39b9e-cf26-4d66-e0e1-38377f23425d"
      },
      "execution_count": 27,
      "outputs": [
        {
          "output_type": "execute_result",
          "data": {
            "text/plain": [
              "<keras.preprocessing.image.DirectoryIterator at 0x7f75f1e518d0>"
            ]
          },
          "metadata": {},
          "execution_count": 27
        }
      ]
    },
    {
      "cell_type": "code",
      "execution_count": 28,
      "metadata": {
        "id": "ieiRmsWi0-UX"
      },
      "outputs": [],
      "source": [
        "for layer in resnet.layers:\n",
        "    layer.trainable = False"
      ]
    },
    {
      "cell_type": "markdown",
      "source": [
        "#2. 모델"
      ],
      "metadata": {
        "id": "yn3MSSVFnoi3"
      }
    },
    {
      "cell_type": "code",
      "source": [
        "from tensorflow.keras import callbacks\n",
        "\n",
        "#과적합 방지\n",
        "early_stopping = callbacks.EarlyStopping(\n",
        "    monitor='val_loss',\n",
        "    patience=5,\n",
        "    min_delta=1e-7,\n",
        "    restore_best_weights=True,\n",
        ")\n"
      ],
      "metadata": {
        "id": "ItnUkSGXC-HF"
      },
      "execution_count": 29,
      "outputs": []
    },
    {
      "cell_type": "code",
      "execution_count": 30,
      "metadata": {
        "id": "2fNPG-pj1BSW"
      },
      "outputs": [],
      "source": [
        "#Fully-conneted layer\n",
        "x = resnet.output\n",
        "x = GlobalAveragePooling2D()(x)\n",
        "x = Dense(256, activation='relu')(x)\n",
        "x = layers.Dropout(0.1)(x)\n",
        "\n",
        "predictions = Dense(1, activation='sigmoid')(x) # 출력층을 설계합니다.\n",
        "model = Model(resnet.input, predictions)\n",
        "\n",
        "model.compile(optimizer = keras.optimizers.Adam(5e-5), loss = 'binary_crossentropy', metrics = ['binary_accuracy'])"
      ]
    },
    {
      "cell_type": "code",
      "execution_count": 31,
      "metadata": {
        "colab": {
          "base_uri": "https://localhost:8080/"
        },
        "id": "wtXPDwtW1bqs",
        "outputId": "24d87673-f105-4173-90ab-5c5d12f32066"
      },
      "outputs": [
        {
          "output_type": "stream",
          "name": "stdout",
          "text": [
            "Epoch 1/30\n",
            "30/30 [==============================] - 160s 5s/step - loss: 0.5291 - binary_accuracy: 0.7583 - val_loss: 0.3786 - val_binary_accuracy: 0.8750\n",
            "Epoch 2/30\n",
            "30/30 [==============================] - 94s 3s/step - loss: 0.3169 - binary_accuracy: 0.8733 - val_loss: 0.2876 - val_binary_accuracy: 0.8800\n",
            "Epoch 3/30\n",
            "30/30 [==============================] - 61s 2s/step - loss: 0.2185 - binary_accuracy: 0.9217 - val_loss: 0.2449 - val_binary_accuracy: 0.8975\n",
            "Epoch 4/30\n",
            "30/30 [==============================] - 51s 2s/step - loss: 0.1779 - binary_accuracy: 0.9350 - val_loss: 0.2370 - val_binary_accuracy: 0.8950\n",
            "Epoch 5/30\n",
            "30/30 [==============================] - 40s 1s/step - loss: 0.1813 - binary_accuracy: 0.9183 - val_loss: 0.2088 - val_binary_accuracy: 0.9150\n",
            "Epoch 6/30\n",
            "30/30 [==============================] - 33s 1s/step - loss: 0.1781 - binary_accuracy: 0.9333 - val_loss: 0.2331 - val_binary_accuracy: 0.9000\n",
            "Epoch 7/30\n",
            "30/30 [==============================] - 30s 1s/step - loss: 0.1618 - binary_accuracy: 0.9383 - val_loss: 0.1830 - val_binary_accuracy: 0.9225\n",
            "Epoch 8/30\n",
            "30/30 [==============================] - 22s 747ms/step - loss: 0.1664 - binary_accuracy: 0.9350 - val_loss: 0.1485 - val_binary_accuracy: 0.9400\n",
            "Epoch 9/30\n",
            "30/30 [==============================] - 24s 789ms/step - loss: 0.1734 - binary_accuracy: 0.9339 - val_loss: 0.1597 - val_binary_accuracy: 0.9450\n",
            "Epoch 10/30\n",
            "30/30 [==============================] - 24s 801ms/step - loss: 0.1307 - binary_accuracy: 0.9500 - val_loss: 0.1581 - val_binary_accuracy: 0.9425\n",
            "Epoch 11/30\n",
            "30/30 [==============================] - 19s 630ms/step - loss: 0.1626 - binary_accuracy: 0.9400 - val_loss: 0.1416 - val_binary_accuracy: 0.9500\n",
            "Epoch 12/30\n",
            "30/30 [==============================] - 17s 590ms/step - loss: 0.1280 - binary_accuracy: 0.9550 - val_loss: 0.1426 - val_binary_accuracy: 0.9500\n",
            "Epoch 13/30\n",
            "30/30 [==============================] - 18s 596ms/step - loss: 0.1504 - binary_accuracy: 0.9458 - val_loss: 0.1331 - val_binary_accuracy: 0.9525\n",
            "Epoch 14/30\n",
            "30/30 [==============================] - 16s 542ms/step - loss: 0.1444 - binary_accuracy: 0.9467 - val_loss: 0.1256 - val_binary_accuracy: 0.9475\n",
            "Epoch 15/30\n",
            "30/30 [==============================] - 15s 507ms/step - loss: 0.1296 - binary_accuracy: 0.9508 - val_loss: 0.1341 - val_binary_accuracy: 0.9475\n",
            "Epoch 16/30\n",
            "30/30 [==============================] - 16s 538ms/step - loss: 0.1261 - binary_accuracy: 0.9500 - val_loss: 0.1355 - val_binary_accuracy: 0.9475\n",
            "Epoch 17/30\n",
            "30/30 [==============================] - 14s 449ms/step - loss: 0.1252 - binary_accuracy: 0.9400 - val_loss: 0.1571 - val_binary_accuracy: 0.9350\n",
            "Epoch 18/30\n",
            "30/30 [==============================] - 14s 471ms/step - loss: 0.1080 - binary_accuracy: 0.9517 - val_loss: 0.1479 - val_binary_accuracy: 0.9450\n",
            "Epoch 19/30\n",
            "30/30 [==============================] - 14s 476ms/step - loss: 0.1239 - binary_accuracy: 0.9533 - val_loss: 0.1423 - val_binary_accuracy: 0.9425\n"
          ]
        }
      ],
      "source": [
        "#모델 훈련\n",
        "history = model.fit(train_set,\n",
        "                         batch_size = 20,\n",
        "                         steps_per_epoch = 30,\n",
        "                         epochs = 30,\n",
        "                         callbacks=[early_stopping],\n",
        "                         validation_data = validation_set,\n",
        "                         validation_steps = 20)"
      ]
    },
    {
      "cell_type": "code",
      "source": [
        "result = model.evaluate(train_set, verbose=2)"
      ],
      "metadata": {
        "colab": {
          "base_uri": "https://localhost:8080/"
        },
        "id": "3G-y8fnF7Dts",
        "outputId": "67e37178-0de6-4f8e-95ce-5a692e091395"
      },
      "execution_count": 32,
      "outputs": [
        {
          "output_type": "stream",
          "name": "stdout",
          "text": [
            "214/214 - 55s - loss: 0.1223 - binary_accuracy: 0.9539 - 55s/epoch - 259ms/step\n"
          ]
        }
      ]
    },
    {
      "cell_type": "code",
      "source": [
        "print('train_lose =',result[0])\n",
        "print('train_accuracy =',result[1])"
      ],
      "metadata": {
        "colab": {
          "base_uri": "https://localhost:8080/"
        },
        "id": "gwSqVK0g7tim",
        "outputId": "f3a01301-2929-4e45-9967-f1cef3fbce29"
      },
      "execution_count": 33,
      "outputs": [
        {
          "output_type": "stream",
          "name": "stdout",
          "text": [
            "train_lose = 0.12228953838348389\n",
            "train_accuracy = 0.9538641571998596\n"
          ]
        }
      ]
    },
    {
      "cell_type": "code",
      "execution_count": 34,
      "metadata": {
        "colab": {
          "base_uri": "https://localhost:8080/"
        },
        "id": "IBZERaAdEu3S",
        "outputId": "b5fe34b9-702c-432f-ef3f-1c34e05aebe1"
      },
      "outputs": [
        {
          "output_type": "stream",
          "name": "stdout",
          "text": [
            "49/49 - 12s - loss: 0.1377 - binary_accuracy: 0.9459 - 12s/epoch - 241ms/step\n"
          ]
        }
      ],
      "source": [
        "result = model.evaluate(validation_set, verbose=2)"
      ]
    },
    {
      "cell_type": "code",
      "source": [
        "print('val_lose =',result[0])\n",
        "print('val_accuracy =',result[1])"
      ],
      "metadata": {
        "colab": {
          "base_uri": "https://localhost:8080/"
        },
        "id": "U5ypTKK_n9fI",
        "outputId": "9b5af0fa-854c-4e5d-fb6a-050a028a6fe1"
      },
      "execution_count": 35,
      "outputs": [
        {
          "output_type": "stream",
          "name": "stdout",
          "text": [
            "val_lose = 0.13769939541816711\n",
            "val_accuracy = 0.9459459185600281\n"
          ]
        }
      ]
    },
    {
      "cell_type": "code",
      "source": [
        "import seaborn as sns\n",
        "import matplotlib.pyplot as plt\n",
        "\n",
        "\n",
        "fig, ax = plt.subplots(figsize=(20,8))\n",
        "sns.lineplot(x = history.epoch, y = history.history['loss'])\n",
        "sns.lineplot(x = history.epoch, y = history.history['val_loss'])\n",
        "ax.set_title('Learning Curve (Loss)')\n",
        "ax.set_ylabel('Loss')\n",
        "ax.set_xlabel('Epoch')\n",
        "ax.set_ylim(0, 0.8)\n",
        "ax.legend(['train', 'val'], loc='best')\n",
        "plt.show()"
      ],
      "metadata": {
        "colab": {
          "base_uri": "https://localhost:8080/",
          "height": 513
        },
        "id": "657FIRlmuhRU",
        "outputId": "395f43de-9cb5-4b1b-9c4d-b7b1c3129989"
      },
      "execution_count": 37,
      "outputs": [
        {
          "output_type": "display_data",
          "data": {
            "text/plain": [
              "<Figure size 1440x576 with 1 Axes>"
            ],
            "image/png": "[encoded data removed]"
          },
          "metadata": {
            "needs_background": "light"
          }
        }
      ]
    },
    {
      "cell_type": "code",
      "source": [
        "fig, ax = plt.subplots(figsize=(20,8))\n",
        "sns.lineplot(x = history.epoch, y = history.history['binary_accuracy'])\n",
        "sns.lineplot(x = history.epoch, y = history.history['val_binary_accuracy'])\n",
        "ax.set_title('Learning Curve (Accuracy)')\n",
        "ax.set_ylabel('Accuracy')\n",
        "ax.set_xlabel('Epoch')\n",
        "ax.set_ylim(0.5, 1.0)\n",
        "ax.legend(['train', 'val'], loc='best')\n",
        "plt.show()"
      ],
      "metadata": {
        "colab": {
          "base_uri": "https://localhost:8080/",
          "height": 513
        },
        "id": "PxRkG9GN2sKV",
        "outputId": "b15b268d-c19b-440a-825a-385dc31a61b4"
      },
      "execution_count": 38,
      "outputs": [
        {
          "output_type": "display_data",
          "data": {
            "text/plain": [
              "<Figure size 1440x576 with 1 Axes>"
            ],
            "image/png": "[encoded data removed]"
          },
          "metadata": {
            "needs_background": "light"
          }
        }
      ]
    },
    {
      "cell_type": "code",
      "source": [
        "result = model.evaluate_generator(test_set, 624)\n",
        "print('test_lose =',result[0])\n",
        "print('test_accuracy =',result[1])"
      ],
      "metadata": {
        "id": "7U3O_5CmEzuK",
        "outputId": "c2e90ea5-10a9-4446-f693-621c7984f688",
        "colab": {
          "base_uri": "https://localhost:8080/"
        }
      },
      "execution_count": 40,
      "outputs": [
        {
          "output_type": "stream",
          "name": "stderr",
          "text": [
            "/usr/local/lib/python3.7/dist-packages/ipykernel_launcher.py:1: UserWarning: `Model.evaluate_generator` is deprecated and will be removed in a future version. Please use `Model.evaluate`, which supports generators.\n",
            "  \"\"\"Entry point for launching an IPython kernel.\n",
            "WARNING:tensorflow:Your input ran out of data; interrupting training. Make sure that your dataset or generator can generate at least `steps_per_epoch * epochs` batches (in this case, 624 batches). You may need to use the repeat() function when building your dataset.\n"
          ]
        },
        {
          "output_type": "stream",
          "name": "stdout",
          "text": [
            "test_lose = 0.34602880477905273\n",
            "test_accuracy = 0.8365384340286255\n"
          ]
        }
      ]
    },
    {
      "cell_type": "markdown",
      "source": [
        "#3. 회고"
      ],
      "metadata": {
        "id": "zmGXKDE1pNxS"
      }
    }
  ],
  "metadata": {
    "colab": {
      "collapsed_sections": [],
      "name": "Ai12_Project4_서경하.ipynb",
      "provenance": [],
      "machine_shape": "hm"
    },
    "kernelspec": {
      "display_name": "Python 3",
      "name": "python3"
    },
    "language_info": {
      "name": "python"
    },
    "accelerator": "GPU"
  },
  "nbformat": 4,
  "nbformat_minor": 0
}